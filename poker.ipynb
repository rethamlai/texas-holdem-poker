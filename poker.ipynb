{
  "nbformat": 4,
  "nbformat_minor": 0,
  "metadata": {
    "colab": {
      "name": "poker.ipynb",
      "provenance": [],
      "collapsed_sections": [],
      "authorship_tag": "ABX9TyPEW/BhfGehBsK4YCTK0nfZ",
      "include_colab_link": true
    },
    "kernelspec": {
      "name": "python3",
      "display_name": "Python 3"
    },
    "language_info": {
      "name": "python"
    }
  },
  "cells": [
    {
      "cell_type": "markdown",
      "metadata": {
        "id": "view-in-github",
        "colab_type": "text"
      },
      "source": [
        "<a href=\"https://colab.research.google.com/github/rethamlai/texas-holdem-poker/blob/main/poker.ipynb\" target=\"_parent\"><img src=\"https://colab.research.google.com/assets/colab-badge.svg\" alt=\"Open In Colab\"/></a>"
      ]
    },
    {
      "cell_type": "code",
      "metadata": {
        "id": "9Jp9St7uNiU6"
      },
      "source": [
        "import pandas as pd\n",
        "import numpy as np\n",
        "import random\n",
        "from itertools import groupby\n",
        "from operator import itemgetter"
      ],
      "execution_count": 2,
      "outputs": []
    },
    {
      "cell_type": "code",
      "metadata": {
        "id": "AZDvSRCvNw4h"
      },
      "source": [
        "# Card parameters\n",
        "nCards = 52\n",
        "nSuits = 4\n",
        "nNumbers = 13"
      ],
      "execution_count": 3,
      "outputs": []
    },
    {
      "cell_type": "code",
      "metadata": {
        "id": "6FcMtAj9NzwP"
      },
      "source": [
        "# Card deck\n",
        "cardDeck = pd.DataFrame(list(range(1,nCards+1)),columns=['Number'])\n",
        "cardDeck['Value'] = pd.DataFrame(list(range(1,nNumbers+1))*nSuits)\n",
        "cardDeck['SuitValue'] = (cardDeck['Number'] - cardDeck['Value'])/nNumbers+1"
      ],
      "execution_count": 4,
      "outputs": []
    },
    {
      "cell_type": "code",
      "metadata": {
        "id": "cofOrQOj6XfS"
      },
      "source": [
        "def draw_card(listVal, nPlayers, temp):\n",
        "  cards = random.sample(listVal, nPlayers)\n",
        "  temp.drop([x-1 for x in cards], 0, inplace=True)\n",
        "  return cards"
      ],
      "execution_count": 5,
      "outputs": []
    },
    {
      "cell_type": "code",
      "metadata": {
        "id": "4t92sBUpN1dm"
      },
      "source": [
        "def play(nPlayers, cardDeck):\n",
        "\n",
        "    nPlayers = nPlayers\n",
        "    \n",
        "    #Card deck copy\n",
        "    temp = cardDeck.copy()\n",
        "    \n",
        "    # Player hands\n",
        "    playerHands = draw_card(list(temp['Number']), 2 * nPlayers, temp)\n",
        "    \n",
        "    # Flop\n",
        "    burnFlop = draw_card(list(temp['Number']), 1, temp)\n",
        "    drawFlop = draw_card(list(temp['Number']), 3, temp)\n",
        "    commCard = drawFlop.copy()\n",
        "    \n",
        "    # Turn\n",
        "    burnTurn = draw_card(list(temp['Number']), 1, temp)\n",
        "    drawTurn = draw_card(list(temp['Number']), 1, temp)\n",
        "    commCard.append(drawTurn[0])\n",
        "    \n",
        "    # River\n",
        "    burnRiver = draw_card(list(temp['Number']), 1, temp)\n",
        "    drawRiver = draw_card(list(temp['Number']), 1, temp)\n",
        "    commCard.append(drawRiver[0])\n",
        "    \n",
        "    return playerHands, commCard, burnFlop, drawFlop, burnTurn, drawTurn, burnRiver, drawRiver"
      ],
      "execution_count": 11,
      "outputs": []
    },
    {
      "cell_type": "code",
      "metadata": {
        "id": "b9ac50MBN4VT"
      },
      "source": [
        "def check_straight_flush(hand):\n",
        "    try:\n",
        "        if (check_flush(hand) == True & check_straight(hand) == True):\n",
        "            return True\n",
        "        else:\n",
        "            return False\n",
        "    except Exception:\n",
        "        return False\n",
        "\n",
        "def check_four_of_a_kind(hand):\n",
        "    valCount = hand.groupby(['Value']).count()\n",
        "    try:\n",
        "        valCount.index[valCount['Number'] == 4][0]\n",
        "        return True\n",
        "    except Exception:\n",
        "        return False\n",
        "\n",
        "def check_full_house(hand):\n",
        "    valCount = hand.groupby(['Value']).count()\n",
        "    try:\n",
        "        valCount.index[valCount['Number'] == 2][0]\n",
        "        valCount.index[valCount['Number'] == 3][0] \n",
        "        return True\n",
        "    except Exception:\n",
        "        return False\n",
        "\n",
        "def check_flush(hand):\n",
        "    suitCount = hand.groupby(['SuitValue']).count()\n",
        "    try:\n",
        "        suitCount.index[suitCount['Number'] >= 5][0]\n",
        "        return True\n",
        "    except Exception:\n",
        "        return False\n",
        "            \n",
        "def check_regular_straight(hand):\n",
        "    uniqueList = sorted(hand['Value'].unique().tolist())\n",
        "    passed = []\n",
        "    for k, g in groupby(enumerate(uniqueList), lambda ix : ix[0] - ix[1]):\n",
        "        consec = list(map(itemgetter(1), g))\n",
        "        passed.append(len(consec))\n",
        "        \n",
        "    if (5 in passed):\n",
        "        return True\n",
        "    elif (6 in passed):\n",
        "        return True\n",
        "    elif (7 in passed):\n",
        "        return True\n",
        "    else:\n",
        "        return False\n",
        "\n",
        "def check_low_straight(hand):\n",
        "    uniqueList = hand['Value'].unique().tolist()\n",
        "    passedAce = []\n",
        "    for n, i in enumerate(uniqueList):\n",
        "        if i == 1:\n",
        "            replaceAceList = uniqueList.copy()\n",
        "            replaceAceList[n] = 14   \n",
        "            replaceAceList = sorted(replaceAceList) \n",
        "    try:\n",
        "        for k, g in groupby(enumerate(replaceAceList), lambda ix : ix[0] - ix[1]):\n",
        "            consecAce = list(map(itemgetter(1), g))\n",
        "            passedAce.append(len(consecAce))\n",
        "                \n",
        "        if (5 in passedAce):\n",
        "            return True\n",
        "        elif (6 in passedAce):\n",
        "            return True\n",
        "        elif (7 in passedAce):\n",
        "            return True\n",
        "        else:\n",
        "            return False\n",
        "    except Exception:\n",
        "        return False\n",
        "    \n",
        "def check_straight(hand):\n",
        "    try:\n",
        "        if (check_regular_straight(hand) == True):\n",
        "            return True\n",
        "        elif (check_low_straight(hand) == True):\n",
        "            return True\n",
        "        else: \n",
        "            return False\n",
        "    except Exception:\n",
        "        return False\n",
        "\n",
        "def check_three_of_a_kind(hand):\n",
        "    valCount = hand.groupby(['Value']).count()\n",
        "    try:\n",
        "        valCount.index[valCount['Number'] == 3][0]\n",
        "        return True\n",
        "    except Exception:\n",
        "        return False\n",
        "\n",
        "def check_two_pairs(hand):\n",
        "    valCount = hand.groupby(['Value']).count()\n",
        "    try:\n",
        "        valCount.index[valCount['Number'] == 2][0]\n",
        "        valCount.index[valCount['Number'] == 2][1]\n",
        "        return True\n",
        "    except Exception:\n",
        "        return False\n",
        "\n",
        "def check_one_pairs(hand):\n",
        "    valCount = hand.groupby(['Value']).count()\n",
        "    try:\n",
        "        valCount.index[valCount['Number'] == 2][0]\n",
        "        return True\n",
        "    except Exception:\n",
        "        return False\n",
        "\n",
        "def check_hand(hand):\n",
        "    if check_straight_flush(hand):\n",
        "        return 9\n",
        "    if check_four_of_a_kind(hand):\n",
        "        return 8\n",
        "    if check_full_house(hand):\n",
        "        return 7\n",
        "    if check_flush(hand):\n",
        "        return 6\n",
        "    if check_straight(hand):\n",
        "        return 5\n",
        "    if check_three_of_a_kind(hand):\n",
        "        return 4\n",
        "    if check_two_pairs(hand):\n",
        "        return 3\n",
        "    if check_one_pairs(hand):\n",
        "        return 2\n",
        "    return 1"
      ],
      "execution_count": 7,
      "outputs": []
    },
    {
      "cell_type": "code",
      "metadata": {
        "id": "RIlO4vIDN624"
      },
      "source": [
        "def check_winner(nPlayers, playerHands, commCard):\n",
        "    playerScores = []\n",
        "    handCombined = pd.DataFrame()\n",
        "    for n in range(0, nPlayers):\n",
        "        hand = commCard.copy()\n",
        "        for i in range(0,2):\n",
        "            hand.append(playerHands[n::nPlayers][i])\n",
        "        hand = cardDeck.loc[[x-1 for x in hand]]\n",
        "        hand['Player'] = n\n",
        "        handCombined = pd.concat([handCombined, np.transpose(hand.reset_index())], axis=1)\n",
        "        playerScores.append(check_hand(hand))\n",
        "        \n",
        "    playerScores.count(max(playerScores))\n",
        "    \n",
        "    \n",
        "    for p in range(0, len(playerScores)):\n",
        "        print('Player ' + str(p) + ' | Score of: ' + str(playerScores[p]))\n",
        "        print([i for i, x in enumerate(playerScores) if x == max(playerScores)])\n",
        "\n",
        "    return np.transpose(handCombined), [i for i, x in enumerate(playerScores) if x == max(playerScores)]"
      ],
      "execution_count": 8,
      "outputs": []
    },
    {
      "cell_type": "code",
      "metadata": {
        "colab": {
          "base_uri": "https://localhost:8080/"
        },
        "id": "YVMiUevjN_fH",
        "outputId": "1d62e678-4bea-4f86-d72e-ad86d5e43d5f"
      },
      "source": [
        "nPlayers = 3\n",
        "playerHands, commCard, burnFlop, drawFlop, burnTurn, drawTurn, burnRiver, drawRiver = play(nPlayers, cardDeck)\n",
        "handCombined, playerScores = check_winner(nPlayers, playerHands, commCard)"
      ],
      "execution_count": 13,
      "outputs": [
        {
          "output_type": "stream",
          "text": [
            "Player 0 | Score of: 2\n",
            "[0, 1, 2]\n",
            "Player 1 | Score of: 2\n",
            "[0, 1, 2]\n",
            "Player 2 | Score of: 2\n",
            "[0, 1, 2]\n"
          ],
          "name": "stdout"
        }
      ]
    }
  ]
}